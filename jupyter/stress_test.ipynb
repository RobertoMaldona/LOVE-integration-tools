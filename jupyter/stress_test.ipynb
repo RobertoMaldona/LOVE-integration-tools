{
 "cells": [
  {
   "cell_type": "markdown",
   "metadata": {},
   "source": [
    "# Load Test\n",
    "This test is supposed to run alongside a LOVE deployment with the following components:\n",
    "- LOVE-manager\n",
    "- LOVE-commander\n",
    "- LOVE-events-producer\n",
    "\n",
    "The test instantiates a series of fake clients that connect to the LOVE manager and subscribe to events, and a series of emitters that send commands to a Test-CSC which trigger events.\n",
    "The test calculates events reception latencies on the client side\n",
    "\n",
    "## Test parameters\n",
    "Configure number of clients, emitters and other parameters below:"
   ]
  },
  {
   "cell_type": "code",
   "execution_count": 1,
   "metadata": {},
   "outputs": [],
   "source": [
    "manager_location = 'love-manager:8000'\n",
    "# Change to line below when running from live environment\n",
    "# manager_location = 'love-manager-mount:8000'\n",
    "\n",
    "N_CLIENTS = 5 # Number of clients to simulate\n",
    "N_EMITTERS = 5 # Number of emitters that will send messages\n",
    "N_EMITTER_COMMANDS = 50 # Number of commands that each emitter will run"
   ]
  },
  {
   "cell_type": "markdown",
   "metadata": {},
   "source": [
    "## Test Setup\n",
    "Classes necessary for the test"
   ]
  },
  {
   "cell_type": "code",
   "execution_count": 2,
   "metadata": {},
   "outputs": [],
   "source": [
    "# Most of this was adapted from https://github.com/lsst-ts/ts_salobj/blob/develop/tests/test_csc.py\n",
    "import asyncio\n",
    "import json\n",
    "from lsst.ts import salobj\n",
    "import logging\n",
    "\n",
    "STD_TIMEOUT = 15  # timeout for command ack\n",
    "LONG_TIMEOUT = 30  # timeout for CSCs to start\n",
    "EVENT_DELAY = 0.1  # time for events to be output as a result of a command\n",
    "NODATA_TIMEOUT = 0.1  # timeout for when we expect no new data\n",
    "SHOW_LOG_MESSAGES = False\n",
    "\n",
    "\n",
    "class FailedCallbackCsc(salobj.TestCsc):\n",
    "    \"\"\"A CSC whose do_wait command raises a RuntimeError and whose do_fault command includes a report\"\"\"\n",
    "\n",
    "    def __init__(self, *args, **kwargs):\n",
    "        super().__init__(*args, **kwargs)\n",
    "        self.exc_msg = \"do_wait raised an exception on purpose on Test-{}\".format(kwargs[\"index\"])\n",
    "        self.index = kwargs[\"index\"]\n",
    "        self.log.warning = lambda x: {}\n",
    "        self.log.info = lambda x: {}\n",
    "        self.log.error = lambda x: {}\n",
    "        self.log.debug = lambda x: {}\n",
    "\n",
    "    async def do_wait(self, data):\n",
    "        raise RuntimeError(self.exc_msg)\n",
    "\n",
    "    async def do_fault(self, data):\n",
    "        \"\"\"Execute the fault command with a report, code and traceback.\n",
    "        Change the summary state to State.FAULT\n",
    "        \"\"\"\n",
    "        self.log.warning(\"Executing fault on Test-{}\".format(self.index))\n",
    "        code = 52\n",
    "        report = \"Report for error code for Test-{}\".format(self.index,)\n",
    "        traceback = \"Traceback for error code for Test-{}\".format(self.index,)\n",
    "        self.fault(code=code, report=report, traceback=traceback)\n",
    "\n",
    "\n",
    "class LogMessagesMock():\n",
    "    \"\"\"Triggers logMessages and errorCode events in a TestCSC \"\"\"\n",
    "\n",
    "    def __init__(self, salindex, *args, **kwargs):\n",
    "        self.csc = FailedCallbackCsc(index=salindex, *args, **kwargs)\n",
    "        d = salobj.Domain()\n",
    "        self.r = salobj.Remote(d, 'Test', salindex)\n",
    "        self.salindex = salindex\n",
    "\n",
    "    async def set_log_level(self):\n",
    "        await self.r.cmd_setLogLevel.set_start(level=logging.DEBUG, timeout=STD_TIMEOUT)\n",
    "\n",
    "    def log_info_message(self):\n",
    "        info_message = \"test info message for Test-{}\".format(self.salindex,)\n",
    "        self.csc.log.info(info_message)\n",
    "\n",
    "    def log_warn_message(self):\n",
    "        warn_message = \"test warn message for Test-{}\".format(self.salindex,)\n",
    "        self.csc.log.warning(warn_message)\n",
    "\n",
    "    async def log_error_message(self):\n",
    "        with salobj.assertRaisesAckError():\n",
    "            await self.r.cmd_wait.set_start(duration=5, timeout=STD_TIMEOUT)\n",
    "\n",
    "    async def printmessage(self):\n",
    "        msg = await self.r.evt_logMessage.next(flush=True)\n",
    "        print('\\n TestCSC', self.salindex, ' | msg:', msg.message, '\\nlvl:', msg.level, '\\ntrace:', msg.traceback)\n",
    "\n",
    "\n",
    "async def launch(salindex, debug=False):\n",
    "    mock = LogMessagesMock(salindex, initial_state=salobj.State.ENABLED)\n",
    "    asyncio.ensure_future(mock.csc.done_task)\n",
    "    await mock.set_log_level()\n",
    "    logmessages = [\n",
    "        mock.log_info_message,\n",
    "        mock.log_warn_message,\n",
    "        mock.log_error_message\n",
    "    ]\n",
    "\n",
    "    counter = 1\n",
    "\n",
    "    while True:\n",
    "        for index, message in enumerate(logmessages):\n",
    "            if index == 2:\n",
    "                await message()\n",
    "            else:\n",
    "                message()\n",
    "            if debug:\n",
    "                while True:\n",
    "                    try:\n",
    "                        await mock.printmessage()\n",
    "                    except asyncio.TimeoutError:\n",
    "                        break\n",
    "            counter += 1\n",
    "            await asyncio.sleep(5)\n",
    "\n",
    "def create_cscs(number):\n",
    "    awaitables = []\n",
    "    loop = asyncio.get_event_loop()\n",
    "    for salindex in range(1, number+1):\n",
    "        awaitables.append(loop.create_task(launch(salindex, True)))\n",
    "    return awaitables"
   ]
  },
  {
   "cell_type": "code",
   "execution_count": 3,
   "metadata": {},
   "outputs": [],
   "source": [
    "import aiohttp\n",
    "import json\n",
    "import asyncio\n",
    "import requests\n",
    "from astropy.time import Time\n",
    "\n",
    "class clientInstance:\n",
    "    \n",
    "    def __init__(self):\n",
    "        self.latencies = []\n",
    "        self.websocket_url = ''\n",
    "        self.received_messages = 0\n",
    "    \n",
    "    def request_token(self):\n",
    "        url = f'http://{manager_location}/manager/api/get-token/'\n",
    "        data = {\n",
    "            'username': 'test',\n",
    "            'password': 'test',\n",
    "        }\n",
    "        resp = requests.post(url, data = data)\n",
    "        token = resp.json()['token']\n",
    "        print(token)\n",
    "        self.websocket_url = f'ws://{manager_location}/manager/ws/subscription?token={token}'\n",
    "    \n",
    "    async def handle_message_reception(self):\n",
    "        \"\"\"Handles the reception of messages\"\"\"\n",
    "        if self.websocket:\n",
    "            async for message in self.websocket:\n",
    "                if message.type == aiohttp.WSMsgType.TEXT:\n",
    "                    msg = json.loads(message.data)\n",
    "                    if 'category' not in msg or msg['category'] != 'event' or \"option\" in msg and msg[\"option\"] == \"subscribe\":\n",
    "                        continue\n",
    "                    self.received_messages = self.received_messages + 1\n",
    "                    cur_time = Time.now().tai.datetime.timestamp()\n",
    "                    snd_time = msg['data'][0]['data']['summaryState'][0]['private_sndStamp']['value']\n",
    "                    self.latencies.append(cur_time - snd_time)\n",
    "    \n",
    "    async def subscribe_to_salindex(self, salindex):\n",
    "        subscribe_msg = {\n",
    "            'option': 'subscribe',\n",
    "            'category': 'event',\n",
    "            'csc': 'Test',\n",
    "            'salindex': f'{salindex}',\n",
    "            'stream': 'summaryState'\n",
    "        }\n",
    "        await self.websocket.send_str(json.dumps(subscribe_msg))\n",
    "    \n",
    "    async def start_ws_client(self, number):\n",
    "        async with aiohttp.ClientSession() as session:\n",
    "            self.websocket = await session.ws_connect(self.websocket_url)\n",
    "            # async with websockets.connect(websocket_url) as websocket:\n",
    "            print('started client')\n",
    "            for i in range(1, N_EMITTERS+1):\n",
    "                await self.subscribe_to_salindex(i)\n",
    "                \n",
    "            await self.handle_message_reception()\n"
   ]
  },
  {
   "cell_type": "code",
   "execution_count": 4,
   "metadata": {},
   "outputs": [],
   "source": [
    "from lsst.ts import salobj\n",
    "import asyncio\n",
    "\n",
    "class Emitter:\n",
    "    \n",
    "    def __init__(self, *args, **kwargs):\n",
    "        self.salindex = kwargs[\"salindex\"]\n",
    "        self.emitted_commands = 0\n",
    "        \n",
    "    async def create_emitter_task(self):\n",
    "        d = salobj.Domain()\n",
    "        r = salobj.Remote(d, 'Test', self.salindex)\n",
    "\n",
    "        cmds = [\n",
    "            r.cmd_enable,\n",
    "            r.cmd_fault,\n",
    "            r.cmd_standby,\n",
    "            r.cmd_start,\n",
    "        ]\n",
    "        for i in range(N_EMITTER_COMMANDS):\n",
    "            for command in cmds:\n",
    "                try:\n",
    "                    await command.start()\n",
    "                    self.emitted_commands = self.emitted_commands + 1\n",
    "                except Exception as e:\n",
    "                    print('Test CSC error:', e)\n",
    "                await asyncio.sleep(0.1)\n",
    "            \n",
    "def create_emitters(number):\n",
    "    emitters = []\n",
    "    for salindex in range(1, number+1):\n",
    "        emitters.append(Emitter(salindex=salindex))\n",
    "    return emitters"
   ]
  },
  {
   "cell_type": "markdown",
   "metadata": {},
   "source": [
    "## Run test\n",
    "### Create and launch clients\n",
    "Clients are created and run, once they start they connect to the LOVE-manager"
   ]
  },
  {
   "cell_type": "code",
   "execution_count": 5,
   "metadata": {
    "scrolled": true
   },
   "outputs": [
    {
     "name": "stdout",
     "output_type": "stream",
     "text": [
      "aecb9aecd98a5df08560c3eb05f663edf5348837\n",
      "a9401f15edf1b4ccb21f0e2a1425907ca6e46ede\n",
      "a1e821177d8cbd639d0e790e8bc278cd5a4115c6\n",
      "6f8dce9e2329ea3b11c6b4b31269acfc6fd21054\n",
      "99d6547e47fd48180fc0692819e3a46dca6d17b6\n",
      "d7494654f4179c768a0e2c49362673f9049babe2\n",
      "4e7533db34dfa525f1494fdf1f64b391176b6197\n",
      "d1567a9b0ef7ec30966baacf67bf030d60bc88e9\n",
      "aa79893f328f2e048b8109981b58b6f1740acef6\n",
      "361dace01d101450e651f308b44ffe0960001ce0\n",
      "2b82d35fcf651ffb58024086f0852434682a5871\n",
      "108aa6502ef216bd01b1a5efa4870c072b3fb36c\n",
      "447864d96f1a77191ae9362f92c1364dd49a77de\n",
      "374f601857eb83fad21b8712597739f1cf605356\n",
      "de8a283a233c6d8af5c67d07c2a60fdb63b87a7f\n",
      "40e9c08a1d8c8df7e8bfad881e94844eb3b06824\n",
      "480afe6a14f7049d996976a554fa499c7801a6c1\n",
      "6d0eb381af458794d58d90474d9e0fec3d08f428\n",
      "6c89adb90682274bef7727556abad3177ba9b1ed\n",
      "b7d3662e448f206caaae7e5288bca75f2eb9decc\n",
      "5d7a2fa8ba07d306bae514476f16d8f9e337a431\n",
      "5b5ad85645b39c6db1e1e797ae62a84793e56f0a\n",
      "ffcc5145371a3ae048ef09553bcb06360a660d2e\n",
      "10caa2635ca98f524a01d42eb0fc98e0a392fe2a\n",
      "fd233152ed1850ab7fc2e67172c3a75cff96119e\n",
      "3fbc3a054fa52f0c0255fb8b211747d7f353d031\n",
      "585e3313bef54c2f3abdc421f07ebd8b9886a35c\n",
      "79407bb42fa76455368c4f83a1225abc173514d1\n",
      "be00017fbc3db68fffad9c639283ae42588d1e5c\n",
      "1709c63a377041ab3bc494aa5ae0761f304d41f6\n",
      "73e7308e4a94f10f46010f5cfefc7b9a6b12157c\n",
      "ce99ba88a1c6c24312234593e661d327deffafc5\n",
      "0408988c8083906bba47d29809004ff661809088\n",
      "a50b4f062c6c127138bbd9d832e2e3cbe1418506\n",
      "ce481ff4c3cb4076716d8fdfe4e14029d38ff823\n",
      "eb0d7887431114aa6a93577b2c0e54c3d0f80d61\n",
      "b1c20bf13b93c73960b94701ee4e57881ab33cc7\n",
      "d5995d637628dd4805403f3b41774e985365da63\n",
      "4474b0ee9200e8fd473fc80f5025c9de6d4b06b8\n",
      "43185cfd5f9a6ed977fe72756ebbf6c5294a5e2a\n",
      "56dee9cf31d0803bbd9399ab10ba7caf0e113faa\n",
      "22a64a452073cd3c94d5ac2dea8eec94fd7e3701\n",
      "9f5ae6a4aa997c13f0e13ecc8796da0ce5402a13\n",
      "514c1610d6ee12cbb53700ef1ee634ca5ec4ba7a\n",
      "05572c02792524edfb086f8fcab8363148b381e8\n",
      "9f7321dc36e445a2fb302b59fc27c5fe709da26a\n",
      "fcedb1c1094697489195aeb2052c122b48efe772\n",
      "6b66ef897d0eeed58dccacd1f9fd513bb38ca699\n",
      "dd13a15b7e7df34ff2e3ddb90014fa87be5e2bdf\n",
      "9b2821b07f87bcb22b88f4393ed4be5a6268d85a\n"
     ]
    }
   ],
   "source": [
    "# Create clients and listen to ws messages\n",
    "loop = asyncio.get_event_loop()\n",
    "clients = [clientInstance() for i in range(N_CLIENTS)]\n",
    "[c.request_token() for c in clients]\n",
    "client_tasks = [loop.create_task(c.start_ws_client(N_EMITTERS)) for c in clients]"
   ]
  },
  {
   "cell_type": "markdown",
   "metadata": {},
   "source": [
    "### Create and launch emitters\n",
    "We wait for 5 seconds, then emitters are created and run.\n",
    "Once they run they start sending commands (which trigger the events)"
   ]
  },
  {
   "cell_type": "code",
   "execution_count": 6,
   "metadata": {
    "scrolled": true
   },
   "outputs": [],
   "source": [
    "# Create emitters and CSCs\n",
    "import time\n",
    "time.sleep(5)\n",
    "loop = asyncio.get_event_loop()\n",
    "csc_tasks = create_cscs(N_EMITTERS)\n",
    "emitters = create_emitters(N_EMITTERS)\n",
    "emitter_tasks = [loop.create_task(e.create_emitter_task()) for e in emitters]\n",
    "\n",
    "backend_tasks = [*csc_tasks, *emitter_tasks]\n",
    "# [t.cancel() for t in tasks]\n",
    "# await asyncio.gather(*tasks)"
   ]
  },
  {
   "cell_type": "markdown",
   "metadata": {},
   "source": [
    "### Wait for emitters to end\n",
    "Wait for emitters to finish their task. This will take a while..."
   ]
  },
  {
   "cell_type": "code",
   "execution_count": 7,
   "metadata": {},
   "outputs": [
    {
     "name": "stdout",
     "output_type": "stream",
     "text": [
      "Test CSC error: msg='Command failed', ackcmd=(ackcmd private_seqNum=451632061, ack=<SalRetCode.CMD_FAILED: -302>, error=1, result='Failed: enable not allowed in state <State.ENABLED: 2>')\n",
      "Test CSC error: msg='Command failed', ackcmd=(ackcmd private_seqNum=383424620, ack=<SalRetCode.CMD_FAILED: -302>, error=1, result='Failed: enable not allowed in state <State.ENABLED: 2>')\n",
      "Test CSC error: msg='Command failed', ackcmd=(ackcmd private_seqNum=370750871, ack=<SalRetCode.CMD_FAILED: -302>, error=1, result='Failed: enable not allowed in state <State.ENABLED: 2>')\n",
      "Test CSC error: msg='Command failed', ackcmd=(ackcmd private_seqNum=431246749, ack=<SalRetCode.CMD_FAILED: -302>, error=1, result='Failed: enable not allowed in state <State.ENABLED: 2>')\n",
      "Test CSC error: msg='Command failed', ackcmd=(ackcmd private_seqNum=333292213, ack=<SalRetCode.CMD_FAILED: -302>, error=1, result='Failed: enable not allowed in state <State.ENABLED: 2>')\n",
      "Test CSC error: msg='Command failed', ackcmd=(ackcmd private_seqNum=340929338, ack=<SalRetCode.CMD_FAILED: -302>, error=1, result='Failed: enable not allowed in state <State.ENABLED: 2>')\n",
      "Test CSC error: msg='Command failed', ackcmd=(ackcmd private_seqNum=377969709, ack=<SalRetCode.CMD_FAILED: -302>, error=1, result='Failed: enable not allowed in state <State.ENABLED: 2>')\n",
      "Test CSC error: msg='Command failed', ackcmd=(ackcmd private_seqNum=440389454, ack=<SalRetCode.CMD_FAILED: -302>, error=1, result='Failed: enable not allowed in state <State.ENABLED: 2>')\n",
      "Test CSC error: msg='Command failed', ackcmd=(ackcmd private_seqNum=345141725, ack=<SalRetCode.CMD_FAILED: -302>, error=1, result='Failed: enable not allowed in state <State.ENABLED: 2>')\n",
      "Test CSC error: msg='Command failed', ackcmd=(ackcmd private_seqNum=333347883, ack=<SalRetCode.CMD_FAILED: -302>, error=1, result='Failed: enable not allowed in state <State.ENABLED: 2>')\n",
      "Test CSC error: msg='Command failed', ackcmd=(ackcmd private_seqNum=438983986, ack=<SalRetCode.CMD_FAILED: -302>, error=1, result='Failed: enable not allowed in state <State.ENABLED: 2>')\n",
      "Test CSC error: msg='Command failed', ackcmd=(ackcmd private_seqNum=361553530, ack=<SalRetCode.CMD_FAILED: -302>, error=1, result='Failed: enable not allowed in state <State.ENABLED: 2>')\n",
      "Test CSC error: msg='Command failed', ackcmd=(ackcmd private_seqNum=313122628, ack=<SalRetCode.CMD_FAILED: -302>, error=1, result='Failed: enable not allowed in state <State.ENABLED: 2>')\n",
      "Test CSC error: msg='Command failed', ackcmd=(ackcmd private_seqNum=394404937, ack=<SalRetCode.CMD_FAILED: -302>, error=1, result='Failed: enable not allowed in state <State.ENABLED: 2>')\n",
      "Test CSC error: msg='Command failed', ackcmd=(ackcmd private_seqNum=403978910, ack=<SalRetCode.CMD_FAILED: -302>, error=1, result='Failed: enable not allowed in state <State.ENABLED: 2>')\n",
      "Test CSC error: msg='Command failed', ackcmd=(ackcmd private_seqNum=416082476, ack=<SalRetCode.CMD_FAILED: -302>, error=1, result='Failed: enable not allowed in state <State.ENABLED: 2>')\n",
      "Test CSC error: msg='Command failed', ackcmd=(ackcmd private_seqNum=363100476, ack=<SalRetCode.CMD_FAILED: -302>, error=1, result='Failed: enable not allowed in state <State.ENABLED: 2>')\n",
      "Test CSC error: msg='Command failed', ackcmd=(ackcmd private_seqNum=332974472, ack=<SalRetCode.CMD_FAILED: -302>, error=1, result='Failed: enable not allowed in state <State.ENABLED: 2>')\n",
      "Test CSC error: msg='Command failed', ackcmd=(ackcmd private_seqNum=449124069, ack=<SalRetCode.CMD_FAILED: -302>, error=1, result='Failed: enable not allowed in state <State.ENABLED: 2>')\n",
      "Test CSC error: msg='Command failed', ackcmd=(ackcmd private_seqNum=431356050, ack=<SalRetCode.CMD_FAILED: -302>, error=1, result='Failed: enable not allowed in state <State.ENABLED: 2>')\n",
      "Test CSC error: msg='Command failed', ackcmd=(ackcmd private_seqNum=361196617, ack=<SalRetCode.CMD_FAILED: -302>, error=1, result='Failed: enable not allowed in state <State.ENABLED: 2>')\n",
      "Test CSC error: msg='Command failed', ackcmd=(ackcmd private_seqNum=354788333, ack=<SalRetCode.CMD_FAILED: -302>, error=1, result='Failed: enable not allowed in state <State.ENABLED: 2>')\n",
      "Test CSC error: msg='Command failed', ackcmd=(ackcmd private_seqNum=379313518, ack=<SalRetCode.CMD_FAILED: -302>, error=1, result='Failed: enable not allowed in state <State.ENABLED: 2>')\n",
      "Test CSC error: msg='Command failed', ackcmd=(ackcmd private_seqNum=396082051, ack=<SalRetCode.CMD_FAILED: -302>, error=1, result='Failed: enable not allowed in state <State.ENABLED: 2>')\n",
      "Test CSC error: msg='Command failed', ackcmd=(ackcmd private_seqNum=316992704, ack=<SalRetCode.CMD_FAILED: -302>, error=1, result='Failed: enable not allowed in state <State.ENABLED: 2>')\n",
      "Test CSC error: msg='Command failed', ackcmd=(ackcmd private_seqNum=415388083, ack=<SalRetCode.CMD_FAILED: -302>, error=1, result='Failed: enable not allowed in state <State.ENABLED: 2>')\n",
      "Test CSC error: msg='Command failed', ackcmd=(ackcmd private_seqNum=436263457, ack=<SalRetCode.CMD_FAILED: -302>, error=1, result='Failed: enable not allowed in state <State.ENABLED: 2>')\n",
      "Test CSC error: msg='Command failed', ackcmd=(ackcmd private_seqNum=400322720, ack=<SalRetCode.CMD_FAILED: -302>, error=1, result='Failed: enable not allowed in state <State.ENABLED: 2>')\n",
      "Test CSC error: msg='Command failed', ackcmd=(ackcmd private_seqNum=393246999, ack=<SalRetCode.CMD_FAILED: -302>, error=1, result='Failed: enable not allowed in state <State.ENABLED: 2>')\n",
      "Test CSC error: msg='Command failed', ackcmd=(ackcmd private_seqNum=332559523, ack=<SalRetCode.CMD_FAILED: -302>, error=1, result='Failed: enable not allowed in state <State.ENABLED: 2>')\n",
      "Test CSC error: msg='Command failed', ackcmd=(ackcmd private_seqNum=417903598, ack=<SalRetCode.CMD_FAILED: -302>, error=1, result='Failed: enable not allowed in state <State.ENABLED: 2>')\n",
      "Test CSC error: msg='Command failed', ackcmd=(ackcmd private_seqNum=370641641, ack=<SalRetCode.CMD_FAILED: -302>, error=1, result='Failed: enable not allowed in state <State.ENABLED: 2>')\n",
      "Test CSC error: msg='Command failed', ackcmd=(ackcmd private_seqNum=394164641, ack=<SalRetCode.CMD_FAILED: -302>, error=1, result='Failed: enable not allowed in state <State.ENABLED: 2>')\n",
      "Test CSC error: msg='Command failed', ackcmd=(ackcmd private_seqNum=326639945, ack=<SalRetCode.CMD_FAILED: -302>, error=1, result='Failed: enable not allowed in state <State.ENABLED: 2>')\n",
      "Test CSC error: msg='Command failed', ackcmd=(ackcmd private_seqNum=420408438, ack=<SalRetCode.CMD_FAILED: -302>, error=1, result='Failed: enable not allowed in state <State.ENABLED: 2>')\n",
      "Test CSC error: msg='Command failed', ackcmd=(ackcmd private_seqNum=429754485, ack=<SalRetCode.CMD_FAILED: -302>, error=1, result='Failed: enable not allowed in state <State.ENABLED: 2>')\n",
      "Test CSC error: msg='Command failed', ackcmd=(ackcmd private_seqNum=415803849, ack=<SalRetCode.CMD_FAILED: -302>, error=1, result='Failed: enable not allowed in state <State.ENABLED: 2>')\n",
      "Test CSC error: msg='Command failed', ackcmd=(ackcmd private_seqNum=341890487, ack=<SalRetCode.CMD_FAILED: -302>, error=1, result='Failed: enable not allowed in state <State.ENABLED: 2>')\n",
      "Test CSC error: msg='Command failed', ackcmd=(ackcmd private_seqNum=336981134, ack=<SalRetCode.CMD_FAILED: -302>, error=1, result='Failed: enable not allowed in state <State.ENABLED: 2>')\n",
      "Test CSC error: msg='Command failed', ackcmd=(ackcmd private_seqNum=358303941, ack=<SalRetCode.CMD_FAILED: -302>, error=1, result='Failed: enable not allowed in state <State.ENABLED: 2>')\n",
      "Test CSC error: msg='Command failed', ackcmd=(ackcmd private_seqNum=384847487, ack=<SalRetCode.CMD_FAILED: -302>, error=1, result='Failed: enable not allowed in state <State.ENABLED: 2>')\n",
      "Test CSC error: msg='Command failed', ackcmd=(ackcmd private_seqNum=445500740, ack=<SalRetCode.CMD_FAILED: -302>, error=1, result='Failed: enable not allowed in state <State.ENABLED: 2>')\n",
      "Test CSC error: msg='Command failed', ackcmd=(ackcmd private_seqNum=339604067, ack=<SalRetCode.CMD_FAILED: -302>, error=1, result='Failed: enable not allowed in state <State.ENABLED: 2>')\n",
      "Test CSC error: msg='Command failed', ackcmd=(ackcmd private_seqNum=389120065, ack=<SalRetCode.CMD_FAILED: -302>, error=1, result='Failed: enable not allowed in state <State.ENABLED: 2>')\n",
      "Test CSC error: msg='Command failed', ackcmd=(ackcmd private_seqNum=310831865, ack=<SalRetCode.CMD_FAILED: -302>, error=1, result='Failed: enable not allowed in state <State.ENABLED: 2>')\n",
      "Test CSC error: msg='Command failed', ackcmd=(ackcmd private_seqNum=440771117, ack=<SalRetCode.CMD_FAILED: -302>, error=1, result='Failed: enable not allowed in state <State.ENABLED: 2>')\n",
      "Test CSC error: msg='Command failed', ackcmd=(ackcmd private_seqNum=437415155, ack=<SalRetCode.CMD_FAILED: -302>, error=1, result='Failed: enable not allowed in state <State.ENABLED: 2>')\n",
      "Test CSC error: msg='Command failed', ackcmd=(ackcmd private_seqNum=421707199, ack=<SalRetCode.CMD_FAILED: -302>, error=1, result='Failed: enable not allowed in state <State.ENABLED: 2>')\n",
      "Test CSC error: msg='Command failed', ackcmd=(ackcmd private_seqNum=314797519, ack=<SalRetCode.CMD_FAILED: -302>, error=1, result='Failed: enable not allowed in state <State.ENABLED: 2>')\n",
      "Test CSC error: msg='Command failed', ackcmd=(ackcmd private_seqNum=442976437, ack=<SalRetCode.CMD_FAILED: -302>, error=1, result='Failed: enable not allowed in state <State.ENABLED: 2>')\n",
      "started client\n",
      "started client\n",
      "started client\n",
      "started client\n",
      "started client\n",
      "started client\n",
      "started client\n",
      "started client\n",
      "started client\n",
      "started client\n",
      "started client\n",
      "started client\n",
      "started client\n",
      "started client\n",
      "started client\n",
      "started client\n",
      "started client\n",
      "started client\n",
      "started client\n",
      "started client\n",
      "started client\n",
      "started client\n",
      "started client\n",
      "started client\n",
      "started client\n",
      "started client\n",
      "started client\n",
      "started client\n",
      "started client\n",
      "started client\n",
      "started client\n",
      "started client\n",
      "started client\n",
      "started client\n",
      "started client\n",
      "started client\n",
      "started client\n",
      "started client\n",
      "started client\n",
      "started client\n",
      "started client\n",
      "started client\n",
      "started client\n",
      "started client\n",
      "started client\n",
      "started client\n",
      "started client\n",
      "started client\n",
      "started client\n",
      "started client\n"
     ]
    },
    {
     "data": {
      "text/plain": [
       "[None,\n",
       " None,\n",
       " None,\n",
       " None,\n",
       " None,\n",
       " None,\n",
       " None,\n",
       " None,\n",
       " None,\n",
       " None,\n",
       " None,\n",
       " None,\n",
       " None,\n",
       " None,\n",
       " None,\n",
       " None,\n",
       " None,\n",
       " None,\n",
       " None,\n",
       " None,\n",
       " None,\n",
       " None,\n",
       " None,\n",
       " None,\n",
       " None,\n",
       " None,\n",
       " None,\n",
       " None,\n",
       " None,\n",
       " None,\n",
       " None,\n",
       " None,\n",
       " None,\n",
       " None,\n",
       " None,\n",
       " None,\n",
       " None,\n",
       " None,\n",
       " None,\n",
       " None,\n",
       " None,\n",
       " None,\n",
       " None,\n",
       " None,\n",
       " None,\n",
       " None,\n",
       " None,\n",
       " None,\n",
       " None,\n",
       " None]"
      ]
     },
     "execution_count": 7,
     "metadata": {},
     "output_type": "execute_result"
    }
   ],
   "source": [
    "# Wait for emitters\n",
    "await asyncio.gather(*emitter_tasks)"
   ]
  },
  {
   "cell_type": "markdown",
   "metadata": {},
   "source": [
    "# Report\n",
    "Here are the test results\n",
    "\n",
    "## Summary of received messages"
   ]
  },
  {
   "cell_type": "code",
   "execution_count": 8,
   "metadata": {},
   "outputs": [
    {
     "name": "stdout",
     "output_type": "stream",
     "text": [
      "Sent 9950 messages, received 420704 messages (8414.08 per client)\n"
     ]
    }
   ],
   "source": [
    "client_msgs = [c.received_messages for c in clients]\n",
    "emitter_msgs = [e.emitted_commands for e in emitters]\n",
    "print(f'Sent {sum(emitter_msgs)} messages, received {sum(client_msgs)} messages ({sum(client_msgs)/len(clients)} per client)')"
   ]
  },
  {
   "cell_type": "markdown",
   "metadata": {},
   "source": [
    "## Latency\n",
    "### Average and median latency\n",
    "Here are some latency statistics"
   ]
  },
  {
   "cell_type": "code",
   "execution_count": 9,
   "metadata": {
    "scrolled": true
   },
   "outputs": [
    {
     "name": "stdout",
     "output_type": "stream",
     "text": [
      "Average message latency: 1680ms\n",
      "Median message latency: 984ms\n"
     ]
    }
   ],
   "source": [
    "import statistics\n",
    "\n",
    "latencies = [[l*1000 for l in c.latencies] for c in clients]\n",
    "avg_latencies = [statistics.mean(l) for l in latencies]\n",
    "median_latencies = [statistics.median(l) for l in latencies]\n",
    "avg_latency = statistics.mean(avg_latencies)\n",
    "median_latency = statistics.median(median_latencies)\n",
    "\n",
    "print(f'Average message latency: {round(avg_latency)}ms')\n",
    "print(f'Median message latency: {round(median_latency)}ms')\n"
   ]
  },
  {
   "cell_type": "markdown",
   "metadata": {},
   "source": [
    "### Latencies series\n",
    "The following chart represents the latencies of each client sorted by reception. That is, the leftmost value was the first message to be received"
   ]
  },
  {
   "cell_type": "code",
   "execution_count": 10,
   "metadata": {},
   "outputs": [
    {
     "data": {
      "image/png": "[encoded data removed]",
      "text/plain": [
       "<Figure size 1440x576 with 1 Axes>"
      ]
     },
     "metadata": {
      "needs_background": "light"
     },
     "output_type": "display_data"
    }
   ],
   "source": [
    "from matplotlib import pyplot as plt\n",
    "plt.rcParams['figure.figsize'] = [20, 8]\n",
    "for l in latencies:\n",
    "    plt.plot(range(len(l)), l)"
   ]
  },
  {
   "cell_type": "code",
   "execution_count": 12,
   "metadata": {
    "scrolled": true
   },
   "outputs": [
    {
     "data": {
      "text/plain": [
       "-466009.7255706787"
      ]
     },
     "execution_count": 12,
     "metadata": {},
     "output_type": "execute_result"
    }
   ],
   "source": [
    "import numpy as np\n",
    "sum(np.array(latencies[0])-np.array(latencies[4]))"
   ]
  },
  {
   "cell_type": "markdown",
   "metadata": {},
   "source": [
    "## Test cleanup\n",
    "Wait for all tasks to end"
   ]
  },
  {
   "cell_type": "code",
   "execution_count": 11,
   "metadata": {},
   "outputs": [],
   "source": [
    "[t.cancel() for t in [*backend_tasks, *client_tasks]]\n",
    "#[t.cancel() for t in [*client_tasks]]\n",
    "for task in asyncio.Task.all_tasks():\n",
    "    task.cancel()"
   ]
  }
 ],
 "metadata": {
  "kernelspec": {
   "display_name": "Python 3",
   "language": "python",
   "name": "python3"
  },
  "language_info": {
   "codemirror_mode": {
    "name": "ipython",
    "version": 3
   },
   "file_extension": ".py",
   "mimetype": "text/x-python",
   "name": "python",
   "nbconvert_exporter": "python",
   "pygments_lexer": "ipython3",
   "version": "3.7.6"
  }
 },
 "nbformat": 4,
 "nbformat_minor": 4
}
