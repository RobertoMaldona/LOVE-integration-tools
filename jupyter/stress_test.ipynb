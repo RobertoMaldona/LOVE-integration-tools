{
 "cells": [
  {
   "cell_type": "code",
   "execution_count": 1,
   "metadata": {},
   "outputs": [],
   "source": [
    "# Most of this was adapted from https://github.com/lsst-ts/ts_salobj/blob/develop/tests/test_csc.py\n",
    "import asyncio\n",
    "import json\n",
    "from lsst.ts import salobj\n",
    "import logging\n",
    "\n",
    "STD_TIMEOUT = 15  # timeout for command ack\n",
    "LONG_TIMEOUT = 30  # timeout for CSCs to start\n",
    "EVENT_DELAY = 0.1  # time for events to be output as a result of a command\n",
    "NODATA_TIMEOUT = 0.1  # timeout for when we expect no new data\n",
    "SHOW_LOG_MESSAGES = False\n",
    "\n",
    "\n",
    "class FailedCallbackCsc(salobj.TestCsc):\n",
    "    \"\"\"A CSC whose do_wait command raises a RuntimeError and whose do_fault command includes a report\"\"\"\n",
    "\n",
    "    def __init__(self, *args, **kwargs):\n",
    "        super().__init__(*args, **kwargs)\n",
    "        self.exc_msg = \"do_wait raised an exception on purpose on Test-{}\".format(kwargs[\"index\"])\n",
    "        self.index = kwargs[\"index\"]\n",
    "        self.log.warning = lambda x: {}\n",
    "        self.log.info = lambda x: {}\n",
    "        self.log.error = lambda x: {}\n",
    "        self.log.debug = lambda x: {}\n",
    "\n",
    "    async def do_wait(self, data):\n",
    "        raise RuntimeError(self.exc_msg)\n",
    "\n",
    "    async def do_fault(self, data):\n",
    "        \"\"\"Execute the fault command with a report, code and traceback.\n",
    "        Change the summary state to State.FAULT\n",
    "        \"\"\"\n",
    "        self.log.warning(\"Executing fault on Test-{}\".format(self.index))\n",
    "        code = 52\n",
    "        report = \"Report for error code for Test-{}\".format(self.index,)\n",
    "        traceback = \"Traceback for error code for Test-{}\".format(self.index,)\n",
    "        self.fault(code=code, report=report, traceback=traceback)\n",
    "\n",
    "\n",
    "class LogMessagesMock():\n",
    "    \"\"\"Triggers logMessages and errorCode events in a TestCSC \"\"\"\n",
    "\n",
    "    def __init__(self, salindex, *args, **kwargs):\n",
    "        self.csc = FailedCallbackCsc(index=salindex, *args, **kwargs)\n",
    "        d = salobj.Domain()\n",
    "        self.r = salobj.Remote(d, 'Test', salindex)\n",
    "        self.salindex = salindex\n",
    "\n",
    "    async def set_log_level(self):\n",
    "        await self.r.cmd_setLogLevel.set_start(level=logging.DEBUG, timeout=STD_TIMEOUT)\n",
    "\n",
    "    def log_info_message(self):\n",
    "        info_message = \"test info message for Test-{}\".format(self.salindex,)\n",
    "        self.csc.log.info(info_message)\n",
    "\n",
    "    def log_warn_message(self):\n",
    "        warn_message = \"test warn message for Test-{}\".format(self.salindex,)\n",
    "        self.csc.log.warning(warn_message)\n",
    "\n",
    "    async def log_error_message(self):\n",
    "        with salobj.assertRaisesAckError():\n",
    "            await self.r.cmd_wait.set_start(duration=5, timeout=STD_TIMEOUT)\n",
    "\n",
    "    async def printmessage(self):\n",
    "        msg = await self.r.evt_logMessage.next(flush=True)\n",
    "        print('\\n TestCSC', self.salindex, ' | msg:', msg.message, '\\nlvl:', msg.level, '\\ntrace:', msg.traceback)\n",
    "\n",
    "\n",
    "async def launch(salindex, debug=False):\n",
    "    mock = LogMessagesMock(salindex, initial_state=salobj.State.ENABLED)\n",
    "    asyncio.ensure_future(mock.csc.done_task)\n",
    "    await mock.set_log_level()\n",
    "    logmessages = [\n",
    "        mock.log_info_message,\n",
    "        mock.log_warn_message,\n",
    "        mock.log_error_message\n",
    "    ]\n",
    "\n",
    "    counter = 1\n",
    "\n",
    "    while True:\n",
    "        for index, message in enumerate(logmessages):\n",
    "            if index == 2:\n",
    "                await message()\n",
    "            else:\n",
    "                message()\n",
    "            if debug:\n",
    "                while True:\n",
    "                    try:\n",
    "                        await mock.printmessage()\n",
    "                    except asyncio.TimeoutError:\n",
    "                        break\n",
    "            counter += 1\n",
    "            await asyncio.sleep(5)\n",
    "\n",
    "def create_cscs(number):\n",
    "    awaitables = []\n",
    "    loop = asyncio.get_event_loop()\n",
    "    for salindex in range(1, number+1):\n",
    "        awaitables.append(loop.create_task(launch(salindex, True)))\n",
    "    return awaitables"
   ]
  },
  {
   "cell_type": "code",
   "execution_count": 2,
   "metadata": {},
   "outputs": [],
   "source": [
    "import aiohttp\n",
    "import json\n",
    "import asyncio\n",
    "import requests\n",
    "from astropy.time import Time\n",
    "\n",
    "class clientInstance:\n",
    "    \n",
    "    def __init__(self):\n",
    "        self.latencies = []\n",
    "        self.websocket_url = ''\n",
    "        self.received_messages = 0\n",
    "    \n",
    "    def request_token(self):\n",
    "        url = 'http://love-manager-mount:8000/manager/api/get-token/'\n",
    "        data = {\n",
    "            'username': 'test',\n",
    "            'password': 'test',\n",
    "        }\n",
    "        resp = requests.post(url, data = data)\n",
    "        token = resp.json()['token']\n",
    "        print(token)\n",
    "        self.websocket_url = f'ws://love-manager-mount:8000/manager/ws/subscription?token={token}'\n",
    "    \n",
    "    async def handle_message_reception(self):\n",
    "        \"\"\"Handles the reception of messages\"\"\"\n",
    "        if self.websocket:\n",
    "            async for message in self.websocket:\n",
    "                if message.type == aiohttp.WSMsgType.TEXT:\n",
    "                    msg = json.loads(message.data)\n",
    "                    if 'category' not in msg or msg['category'] != 'event' or \"option\" in msg and msg[\"option\"] == \"subscribe\":\n",
    "                        continue\n",
    "                    self.received_messages = self.received_messages + 1\n",
    "                    cur_time = Time.now().tai.datetime.timestamp()\n",
    "                    snd_time = msg['data'][0]['data']['summaryState'][0]['private_sndStamp']['value']\n",
    "                    self.latencies.append(cur_time - snd_time)\n",
    "    \n",
    "    async def subscribe_to_salindex(self, salindex):\n",
    "        subscribe_msg = {\n",
    "            'option': 'subscribe',\n",
    "            'category': 'event',\n",
    "            'csc': 'Test',\n",
    "            'salindex': f'{salindex}',\n",
    "            'stream': 'summaryState'\n",
    "        }\n",
    "        await self.websocket.send_str(json.dumps(subscribe_msg))\n",
    "    \n",
    "    async def start_ws_client(self, number):\n",
    "        async with aiohttp.ClientSession() as session:\n",
    "            self.websocket = await session.ws_connect(self.websocket_url)\n",
    "            # async with websockets.connect(websocket_url) as websocket:\n",
    "            print('started client')\n",
    "            for i in range(1, N_EMITTERS+1):\n",
    "                await self.subscribe_to_salindex(i)\n",
    "                \n",
    "            await self.handle_message_reception()\n"
   ]
  },
  {
   "cell_type": "code",
   "execution_count": 3,
   "metadata": {},
   "outputs": [],
   "source": [
    "from lsst.ts import salobj\n",
    "import asyncio\n",
    "\n",
    "class Emitter:\n",
    "    \n",
    "    def __init__(self, *args, **kwargs):\n",
    "        self.salindex = kwargs[\"salindex\"]\n",
    "        self.emitted_commands = 0\n",
    "        \n",
    "    async def create_emitter_task(self):\n",
    "        d = salobj.Domain()\n",
    "        r = salobj.Remote(d, 'Test', self.salindex)\n",
    "\n",
    "        cmds = [\n",
    "            r.cmd_enable,\n",
    "            r.cmd_fault,\n",
    "            r.cmd_standby,\n",
    "            r.cmd_start,\n",
    "        ]\n",
    "        #while True:\n",
    "        for i in range(50):\n",
    "            for command in cmds:\n",
    "                try:\n",
    "                    await command.start()\n",
    "                    self.emitted_commands = self.emitted_commands + 1\n",
    "                except Exception as e:\n",
    "                    print('Test CSC error:', e)\n",
    "                await asyncio.sleep(0.1)\n",
    "            \n",
    "def create_emitters(number):\n",
    "    emitters = []\n",
    "    for salindex in range(1, number+1):\n",
    "        emitters.append(Emitter(salindex=salindex))\n",
    "    return emitters"
   ]
  },
  {
   "cell_type": "code",
   "execution_count": 4,
   "metadata": {
    "scrolled": true
   },
   "outputs": [],
   "source": [
    "# Create emitters and CSCs\n",
    "N_EMITTERS = 50\n",
    "loop = asyncio.get_event_loop()\n",
    "csc_tasks = create_cscs(N_EMITTERS)\n",
    "emitters = create_emitters(N_EMITTERS)\n",
    "emitter_tasks = [loop.create_task(e.create_emitter_task()) for e in emitters]\n",
    "\n",
    "backend_tasks = [*csc_tasks, *emitter_tasks]\n",
    "# [t.cancel() for t in tasks]\n",
    "# await asyncio.gather(*tasks)\n",
    "\n"
   ]
  },
  {
   "cell_type": "code",
   "execution_count": 9,
   "metadata": {
    "scrolled": true
   },
   "outputs": [
    {
     "name": "stdout",
     "output_type": "stream",
     "text": [
      "b4c38c0c8486ea9d7468ca0a6806a8289885385b\n",
      "22869aad3187a310a1863a7f1b43b706c4e33c13\n",
      "e8cc25defd53ae9f6817cc352a5157f24c9bc257\n",
      "e4c80411e26c0175425516d4ed84440c0a7eda6b\n",
      "2df63f91c2bf90a6dbf1f70f1bbf3bf7cb46e532\n",
      "a9f68e42740807c38f0f455abb84807a09e6eb10\n",
      "dc1af394a2d5a89ff98972c62e836d54ba1b409a\n",
      "680777d4ea246785d67cc8eb85476632a57832f9\n",
      "c17c562ec3722ae315a400a6b9d302219382bc46\n",
      "240c08e43bd7c62c54a010ad3627b9b956f3a0a4\n",
      "0453ee8c16769342643f472bf77bc65324683ee5\n",
      "dab127c96ad7cbfe654f4a5c3a906f1dab121a24\n",
      "8c5a79ef75bfde4ba0a8e20cdbf3be08ac7b89e4\n",
      "7c32ff8fc328db49bc29ff7184d6e79cfadc2780\n",
      "6f731b7acaa9457db11355e755853b44df3eb569\n",
      "f72d1f341572985355a9c53582b6e5bb95d5c644\n",
      "b6338aae419d5e0145d379715caecdf9187b5fc9\n",
      "7f9c5484206e0c0713ceeb3706766ce61021d3ff\n",
      "4980c1ca8bf2fb2336013b9222cfd99c785cf04d\n",
      "a6cf1cf3035dcd313850e6dce0884814dde06bc1\n",
      "9578b7856b77656dc4408dc681835494049b3885\n",
      "1a189e2eabf601da59181a25e91dde1b457b5ad3\n",
      "b22653277184042ff4c62a4f6e0f55891b662013\n",
      "88bb74a1c81d150f1309ebb11f99a93c2cb7fb63\n",
      "a892582892098bc2d806ded2529b5d3fdf4287c0\n",
      "d68b066e4ca015a1c15c3879200f2758f34421c0\n",
      "b2c872cfbf3608a9b3012e479b19e382c065412e\n",
      "fb285ad4fcc12d7cbb3f673bd5e7f4b07f3f60c9\n",
      "321d03a9297e60b17c568a988ff164bb7e6b81c5\n",
      "a79489ea2214854f00e555a3a7d534c0471fd06d\n",
      "25ef0b70ecee5e3098e9dfe5684ea45bb4d855d7\n",
      "d9cf970ced0f9a61ad27fb90cfa77f0136bac88d\n",
      "74bbd799be180d0a83645cb6999c5a17a11fb236\n",
      "21b1001967a66282ebac3095c71c0477dbdfe1d5\n",
      "92cabc9d47e1985c85f04e182c5581f666615cb9\n",
      "0c6a490eed337383bc309a81fb89d89220f05b44\n",
      "d9be273294811500d58a570ec01bfbe4213849c5\n",
      "c86450860da1fa2d31108764025e36123c826a6c\n",
      "0647eafcb342dcd8bb7fafc201253248df9240e5\n",
      "54c1ec8d992640b2f9a5a8525d2134a22d53f59b\n",
      "e6f43abb726a678ecffc90a319618e0f8c52f854\n",
      "a53dedcb9c6fba9ed1d53e3e89a39e301b61fd66\n",
      "3ba8e68e99ec69522dcb42e181ee0ed8e474b420\n",
      "3efebdebae738a316ade8e2c3259e27943a16afb\n",
      "e91c3ddcab1d341416ac46dae20f6a372e7b890b\n",
      "92b31f29b14d75d1abdd9762b016efcfa136bf3a\n",
      "532c1dea7c4d7b735b075b1ddd282de73e079e1e\n",
      "e41a226b0ef0895df3a5a30da74ab41b0493053b\n",
      "a020831fe46d2e9fe7c76a1bbe31ac96792a71fe\n",
      "da011c2be9443a99f5d47f996baba894c7bf1bc3\n"
     ]
    },
    {
     "data": {
      "text/plain": [
       "[None,\n",
       " None,\n",
       " None,\n",
       " None,\n",
       " None,\n",
       " None,\n",
       " None,\n",
       " None,\n",
       " None,\n",
       " None,\n",
       " None,\n",
       " None,\n",
       " None,\n",
       " None,\n",
       " None,\n",
       " None,\n",
       " None,\n",
       " None,\n",
       " None,\n",
       " None,\n",
       " None,\n",
       " None,\n",
       " None,\n",
       " None,\n",
       " None,\n",
       " None,\n",
       " None,\n",
       " None,\n",
       " None,\n",
       " None,\n",
       " None,\n",
       " None,\n",
       " None,\n",
       " None,\n",
       " None,\n",
       " None,\n",
       " None,\n",
       " None,\n",
       " None,\n",
       " None,\n",
       " None,\n",
       " None,\n",
       " None,\n",
       " None,\n",
       " None,\n",
       " None,\n",
       " None,\n",
       " None,\n",
       " None,\n",
       " None]"
      ]
     },
     "execution_count": 9,
     "metadata": {},
     "output_type": "execute_result"
    },
    {
     "name": "stdout",
     "output_type": "stream",
     "text": [
      "started client\n",
      "started client\n",
      "started client\n",
      "started client\n",
      "started client\n",
      "started client\n",
      "started client\n",
      "started client\n",
      "started client\n",
      "started client\n",
      "started client\n",
      "started client\n",
      "started client\n",
      "started client\n",
      "started client\n",
      "started client\n",
      "started client\n",
      "started client\n",
      "started client\n",
      "started client\n",
      "started client\n",
      "started client\n",
      "started client\n",
      "started client\n",
      "started client\n",
      "started client\n",
      "started client\n",
      "started client\n",
      "started client\n",
      "started client\n",
      "started client\n",
      "started client\n",
      "started client\n",
      "started client\n",
      "started client\n",
      "started client\n",
      "started client\n",
      "started client\n",
      "started client\n",
      "started client\n",
      "started client\n",
      "started client\n",
      "started client\n",
      "started client\n",
      "started client\n",
      "started client\n",
      "started client\n",
      "started client\n",
      "started client\n",
      "started client\n"
     ]
    }
   ],
   "source": [
    "# Create clients and listen to ws messages\n",
    "N_CLIENTS = 50\n",
    "loop = asyncio.get_event_loop()\n",
    "clients = [clientInstance() for i in range(N_CLIENTS)]\n",
    "[c.request_token() for c in clients]\n",
    "client_tasks = [loop.create_task(c.start_ws_client(N_EMITTERS)) for c in clients]\n",
    "await asyncio.gather(*emitter_tasks)"
   ]
  },
  {
   "cell_type": "markdown",
   "metadata": {},
   "source": [
    "# Report"
   ]
  },
  {
   "cell_type": "code",
   "execution_count": 6,
   "metadata": {},
   "outputs": [
    {
     "name": "stdout",
     "output_type": "stream",
     "text": [
      "Sent 9950 messages, received 392687 messages (7853.74 per client)\n"
     ]
    }
   ],
   "source": [
    "client_msgs = [c.received_messages for c in clients]\n",
    "emitter_msgs = [e.emitted_commands for e in emitters]\n",
    "print(f'Sent {sum(emitter_msgs)} messages, received {sum(client_msgs)} messages ({sum(client_msgs)/len(clients)} per client)')"
   ]
  },
  {
   "cell_type": "markdown",
   "metadata": {},
   "source": [
    "## Latency"
   ]
  },
  {
   "cell_type": "code",
   "execution_count": 7,
   "metadata": {
    "scrolled": true
   },
   "outputs": [
    {
     "name": "stdout",
     "output_type": "stream",
     "text": [
      "Average message latency: 1772ms\n",
      "Median message latency: 1040ms\n"
     ]
    }
   ],
   "source": [
    "import statistics\n",
    "\n",
    "latencies = [[l*1000 for l in c.latencies] for c in clients]\n",
    "avg_latencies = [statistics.mean(l) for l in latencies]\n",
    "median_latencies = [statistics.median(l) for l in latencies]\n",
    "avg_latency = statistics.mean(avg_latencies)\n",
    "median_latency = statistics.median(median_latencies)\n",
    "\n",
    "print(f'Average message latency: {round(avg_latency)}ms')\n",
    "print(f'Median message latency: {round(median_latency)}ms')\n"
   ]
  },
  {
   "cell_type": "code",
   "execution_count": 8,
   "metadata": {},
   "outputs": [
    {
     "data": {
      "image/png": "[encoded data removed]",
      "text/plain": [
       "<Figure size 1440x576 with 1 Axes>"
      ]
     },
     "metadata": {
      "needs_background": "light"
     },
     "output_type": "display_data"
    }
   ],
   "source": [
    "from matplotlib import pyplot as plt\n",
    "plt.rcParams['figure.figsize'] = [20, 8]\n",
    "for l in latencies:\n",
    "    plt.plot(range(len(l)), l)"
   ]
  },
  {
   "cell_type": "code",
   "execution_count": null,
   "metadata": {},
   "outputs": [],
   "source": [
    "[t.cancel() for t in [*backend_tasks, *client_tasks]]\n",
    "#[t.cancel() for t in [*client_tasks]]\n",
    "for task in asyncio.Task.all_tasks():\n",
    "    task.cancel()"
   ]
  },
  {
   "cell_type": "code",
   "execution_count": 10,
   "metadata": {
    "scrolled": true
   },
   "outputs": [
    {
     "data": {
      "text/plain": [
       "0.0"
      ]
     },
     "execution_count": 10,
     "metadata": {},
     "output_type": "execute_result"
    }
   ],
   "source": [
    "import numpy as np\n",
    "sum(np.array(latencies[0])-np.array(latencies[5]))"
   ]
  }
 ],
 "metadata": {
  "kernelspec": {
   "display_name": "Python 3",
   "language": "python",
   "name": "python3"
  },
  "language_info": {
   "codemirror_mode": {
    "name": "ipython",
    "version": 3
   },
   "file_extension": ".py",
   "mimetype": "text/x-python",
   "name": "python",
   "nbconvert_exporter": "python",
   "pygments_lexer": "ipython3",
   "version": "3.7.6"
  }
 },
 "nbformat": 4,
 "nbformat_minor": 4
}
