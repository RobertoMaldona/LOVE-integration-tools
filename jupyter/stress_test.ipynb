{
 "cells": [
  {
   "cell_type": "markdown",
   "metadata": {},
   "source": [
    "# Load Test\n",
    "This test is supposed to run alongside a LOVE deployment with the following components:\n",
    "- LOVE-manager\n",
    "- LOVE-commander\n",
    "- LOVE-events-producer\n",
    "\n",
    "The test instantiates a series of fake clients that connect to the LOVE manager and subscribe to events, and a series of emitters that send commands to a Test-CSC which trigger events.\n",
    "The test calculates events reception latencies on the client side\n",
    "\n",
    "## Test parameters\n",
    "Configure number of clients, emitters and other parameters below:"
   ]
  },
  {
   "cell_type": "code",
   "execution_count": 2,
   "metadata": {},
   "outputs": [],
   "source": [
    "manager_location = 'love-manager:8000'\n",
    "# Change to line below when running from live environment\n",
    "# manager_location = 'love-manager-mount:8000'\n",
    "\n",
    "N_CLIENTS = 5 # Number of clients to simulate\n",
    "N_EMITTERS = 5 # Number of emitters that will send messages\n",
    "N_EMITTER_COMMANDS = 50 # Number of commands that each emitter will run"
   ]
  },
  {
   "cell_type": "markdown",
   "metadata": {},
   "source": [
    "---\n",
    "## Test execution\n",
    "### Test setup\n",
    "Classes necessary for the test"
   ]
  },
  {
   "cell_type": "code",
   "execution_count": 3,
   "metadata": {},
   "outputs": [],
   "source": [
    "# Most of this was adapted from https://github.com/lsst-ts/ts_salobj/blob/develop/tests/test_csc.py\n",
    "import asyncio\n",
    "import json\n",
    "from lsst.ts import salobj\n",
    "import logging\n",
    "\n",
    "STD_TIMEOUT = 15  # timeout for command ack\n",
    "LONG_TIMEOUT = 30  # timeout for CSCs to start\n",
    "EVENT_DELAY = 0.1  # time for events to be output as a result of a command\n",
    "NODATA_TIMEOUT = 0.1  # timeout for when we expect no new data\n",
    "SHOW_LOG_MESSAGES = False\n",
    "\n",
    "\n",
    "class FailedCallbackCsc(salobj.TestCsc):\n",
    "    \"\"\"A CSC whose do_wait command raises a RuntimeError and whose do_fault command includes a report\"\"\"\n",
    "\n",
    "    def __init__(self, *args, **kwargs):\n",
    "        super().__init__(*args, **kwargs)\n",
    "        self.exc_msg = \"do_wait raised an exception on purpose on Test-{}\".format(kwargs[\"index\"])\n",
    "        self.index = kwargs[\"index\"]\n",
    "        self.log.warning = lambda x: {}\n",
    "        self.log.info = lambda x: {}\n",
    "        self.log.error = lambda x: {}\n",
    "        self.log.debug = lambda x: {}\n",
    "\n",
    "    async def do_wait(self, data):\n",
    "        raise RuntimeError(self.exc_msg)\n",
    "\n",
    "    async def do_fault(self, data):\n",
    "        \"\"\"Execute the fault command with a report, code and traceback.\n",
    "        Change the summary state to State.FAULT\n",
    "        \"\"\"\n",
    "        self.log.warning(\"Executing fault on Test-{}\".format(self.index))\n",
    "        code = 52\n",
    "        report = \"Report for error code for Test-{}\".format(self.index,)\n",
    "        traceback = \"Traceback for error code for Test-{}\".format(self.index,)\n",
    "        self.fault(code=code, report=report, traceback=traceback)\n",
    "\n",
    "\n",
    "class LogMessagesMock():\n",
    "    \"\"\"Triggers logMessages and errorCode events in a TestCSC \"\"\"\n",
    "\n",
    "    def __init__(self, salindex, *args, **kwargs):\n",
    "        self.csc = FailedCallbackCsc(index=salindex, *args, **kwargs)\n",
    "        d = salobj.Domain()\n",
    "        self.r = salobj.Remote(d, 'Test', salindex)\n",
    "        self.salindex = salindex\n",
    "\n",
    "    async def set_log_level(self):\n",
    "        await self.r.cmd_setLogLevel.set_start(level=logging.DEBUG, timeout=STD_TIMEOUT)\n",
    "\n",
    "    def log_info_message(self):\n",
    "        info_message = \"test info message for Test-{}\".format(self.salindex,)\n",
    "        self.csc.log.info(info_message)\n",
    "\n",
    "    def log_warn_message(self):\n",
    "        warn_message = \"test warn message for Test-{}\".format(self.salindex,)\n",
    "        self.csc.log.warning(warn_message)\n",
    "\n",
    "    async def log_error_message(self):\n",
    "        with salobj.assertRaisesAckError():\n",
    "            await self.r.cmd_wait.set_start(duration=5, timeout=STD_TIMEOUT)\n",
    "\n",
    "    async def printmessage(self):\n",
    "        msg = await self.r.evt_logMessage.next(flush=True)\n",
    "        print('\\n TestCSC', self.salindex, ' | msg:', msg.message, '\\nlvl:', msg.level, '\\ntrace:', msg.traceback)\n",
    "\n",
    "\n",
    "async def launch(salindex, debug=False):\n",
    "    mock = LogMessagesMock(salindex, initial_state=salobj.State.ENABLED)\n",
    "    asyncio.ensure_future(mock.csc.done_task)\n",
    "    await mock.set_log_level()\n",
    "    logmessages = [\n",
    "        mock.log_info_message,\n",
    "        mock.log_warn_message,\n",
    "        mock.log_error_message\n",
    "    ]\n",
    "\n",
    "    counter = 1\n",
    "\n",
    "    while True:\n",
    "        for index, message in enumerate(logmessages):\n",
    "            if index == 2:\n",
    "                await message()\n",
    "            else:\n",
    "                message()\n",
    "            if debug:\n",
    "                while True:\n",
    "                    try:\n",
    "                        await mock.printmessage()\n",
    "                    except asyncio.TimeoutError:\n",
    "                        break\n",
    "            counter += 1\n",
    "            await asyncio.sleep(5)\n",
    "\n",
    "def create_cscs(number):\n",
    "    awaitables = []\n",
    "    loop = asyncio.get_event_loop()\n",
    "    for salindex in range(1, number+1):\n",
    "        awaitables.append(loop.create_task(launch(salindex, True)))\n",
    "    return awaitables"
   ]
  },
  {
   "cell_type": "code",
   "execution_count": 4,
   "metadata": {},
   "outputs": [],
   "source": [
    "import aiohttp\n",
    "import json\n",
    "import asyncio\n",
    "import requests\n",
    "from astropy.time import Time\n",
    "\n",
    "class clientInstance:\n",
    "    \n",
    "    def __init__(self):\n",
    "        self.latencies = []\n",
    "        self.websocket_url = ''\n",
    "        self.received_messages = 0\n",
    "    \n",
    "    def request_token(self):\n",
    "        url = f'http://{manager_location}/manager/api/get-token/'\n",
    "        data = {\n",
    "            'username': 'test',\n",
    "            'password': 'test',\n",
    "        }\n",
    "        resp = requests.post(url, data = data)\n",
    "        token = resp.json()['token']\n",
    "        print(token)\n",
    "        self.websocket_url = f'ws://{manager_location}/manager/ws/subscription?token={token}'\n",
    "    \n",
    "    async def handle_message_reception(self):\n",
    "        \"\"\"Handles the reception of messages\"\"\"\n",
    "        if self.websocket:\n",
    "            async for message in self.websocket:\n",
    "                if message.type == aiohttp.WSMsgType.TEXT:\n",
    "                    msg = json.loads(message.data)\n",
    "                    if 'category' not in msg or msg['category'] != 'event' or \"option\" in msg and msg[\"option\"] == \"subscribe\":\n",
    "                        continue\n",
    "                    self.received_messages = self.received_messages + 1\n",
    "                    cur_time = Time.now().tai.datetime.timestamp()\n",
    "                    snd_time = msg['data'][0]['data']['summaryState'][0]['private_sndStamp']['value']\n",
    "                    self.latencies.append(cur_time - snd_time)\n",
    "    \n",
    "    async def subscribe_to_salindex(self, salindex):\n",
    "        subscribe_msg = {\n",
    "            'option': 'subscribe',\n",
    "            'category': 'event',\n",
    "            'csc': 'Test',\n",
    "            'salindex': f'{salindex}',\n",
    "            'stream': 'summaryState'\n",
    "        }\n",
    "        await self.websocket.send_str(json.dumps(subscribe_msg))\n",
    "    \n",
    "    async def start_ws_client(self, number):\n",
    "        async with aiohttp.ClientSession() as session:\n",
    "            self.websocket = await session.ws_connect(self.websocket_url)\n",
    "            # async with websockets.connect(websocket_url) as websocket:\n",
    "            print('started client')\n",
    "            for i in range(1, N_EMITTERS+1):\n",
    "                await self.subscribe_to_salindex(i)\n",
    "                \n",
    "            await self.handle_message_reception()\n"
   ]
  },
  {
   "cell_type": "code",
   "execution_count": 5,
   "metadata": {},
   "outputs": [],
   "source": [
    "from lsst.ts import salobj\n",
    "import asyncio\n",
    "\n",
    "class Emitter:\n",
    "    \n",
    "    def __init__(self, *args, **kwargs):\n",
    "        self.salindex = kwargs[\"salindex\"]\n",
    "        self.emitted_commands = 0\n",
    "        \n",
    "    async def create_emitter_task(self):\n",
    "        d = salobj.Domain()\n",
    "        r = salobj.Remote(d, 'Test', self.salindex)\n",
    "\n",
    "        cmds = [\n",
    "            r.cmd_enable,\n",
    "            r.cmd_fault,\n",
    "            r.cmd_standby,\n",
    "            r.cmd_start,\n",
    "        ]\n",
    "        for i in range(N_EMITTER_COMMANDS):\n",
    "            for command in cmds:\n",
    "                try:\n",
    "                    await command.start()\n",
    "                    self.emitted_commands = self.emitted_commands + 1\n",
    "                except Exception as e:\n",
    "                    print('Test CSC error:', e)\n",
    "                await asyncio.sleep(0.1)\n",
    "            \n",
    "def create_emitters(number):\n",
    "    emitters = []\n",
    "    for salindex in range(1, number+1):\n",
    "        emitters.append(Emitter(salindex=salindex))\n",
    "    return emitters"
   ]
  },
  {
   "cell_type": "markdown",
   "metadata": {},
   "source": [
    "### Run test\n",
    "#### Create and launch clients\n",
    "Clients are created and run, once they start they connect to the LOVE-manager"
   ]
  },
  {
   "cell_type": "code",
   "execution_count": 6,
   "metadata": {
    "scrolled": true
   },
   "outputs": [
    {
     "name": "stdout",
     "output_type": "stream",
     "text": [
      "94b554fefd91092fb563d6a99ad1af6bdfd05ee5\n",
      "05db08e40a58251063f6dd9b37f7c57313d70c07\n",
      "d28411291dad706747e2fabce5f2c7a6b63c8394\n",
      "b372b56e8e24074e3eeb82c2adba46acaf8f5b1c\n",
      "0a4381b307c08fd32deb84ae7a09e5cd124a1b24\n"
     ]
    }
   ],
   "source": [
    "# Create clients and listen to ws messages\n",
    "loop = asyncio.get_event_loop()\n",
    "clients = [clientInstance() for i in range(N_CLIENTS)]\n",
    "[c.request_token() for c in clients]\n",
    "client_tasks = [loop.create_task(c.start_ws_client(N_EMITTERS)) for c in clients]"
   ]
  },
  {
   "cell_type": "markdown",
   "metadata": {},
   "source": [
    "#### Create and launch emitters\n",
    "We wait for 5 seconds, then emitters are created and run.\n",
    "Once they run they start sending commands (which trigger the events)"
   ]
  },
  {
   "cell_type": "code",
   "execution_count": 7,
   "metadata": {
    "scrolled": true
   },
   "outputs": [],
   "source": [
    "# Create emitters and CSCs\n",
    "import time\n",
    "time.sleep(5)\n",
    "loop = asyncio.get_event_loop()\n",
    "csc_tasks = create_cscs(N_EMITTERS)\n",
    "emitters = create_emitters(N_EMITTERS)\n",
    "emitter_tasks = [loop.create_task(e.create_emitter_task()) for e in emitters]\n",
    "\n",
    "backend_tasks = [*csc_tasks, *emitter_tasks]\n",
    "# [t.cancel() for t in tasks]\n",
    "# await asyncio.gather(*tasks)"
   ]
  },
  {
   "cell_type": "markdown",
   "metadata": {},
   "source": [
    "#### Wait for emitters to end\n",
    "Wait for emitters to finish their task. This will take a while..."
   ]
  },
  {
   "cell_type": "code",
   "execution_count": 8,
   "metadata": {},
   "outputs": [
    {
     "name": "stdout",
     "output_type": "stream",
     "text": [
      "Test CSC error: msg='Command failed', ackcmd=(ackcmd private_seqNum=433765332, ack=<SalRetCode.CMD_FAILED: -302>, error=1, result='Failed: enable not allowed in state <State.ENABLED: 2>')\n",
      "Test CSC error: msg='Command failed', ackcmd=(ackcmd private_seqNum=355790519, ack=<SalRetCode.CMD_FAILED: -302>, error=1, result='Failed: enable not allowed in state <State.ENABLED: 2>')\n",
      "Test CSC error: msg='Command failed', ackcmd=(ackcmd private_seqNum=450908377, ack=<SalRetCode.CMD_FAILED: -302>, error=1, result='Failed: enable not allowed in state <State.ENABLED: 2>')\n",
      "Test CSC error: msg='Command failed', ackcmd=(ackcmd private_seqNum=361867316, ack=<SalRetCode.CMD_FAILED: -302>, error=1, result='Failed: enable not allowed in state <State.ENABLED: 2>')\n",
      "Test CSC error: msg='Command failed', ackcmd=(ackcmd private_seqNum=427514389, ack=<SalRetCode.CMD_FAILED: -302>, error=1, result='Failed: enable not allowed in state <State.ENABLED: 2>')\n",
      "started client\n",
      "started client\n",
      "started client\n",
      "started client\n",
      "started client\n"
     ]
    },
    {
     "data": {
      "text/plain": [
       "[None, None, None, None, None]"
      ]
     },
     "execution_count": 8,
     "metadata": {},
     "output_type": "execute_result"
    }
   ],
   "source": [
    "# Wait for emitters\n",
    "await asyncio.gather(*emitter_tasks)"
   ]
  },
  {
   "cell_type": "markdown",
   "metadata": {},
   "source": [
    "---\n",
    "# Report\n",
    "Here are the test results\n",
    "\n",
    "## Summary of received messages"
   ]
  },
  {
   "cell_type": "code",
   "execution_count": 9,
   "metadata": {},
   "outputs": [
    {
     "name": "stdout",
     "output_type": "stream",
     "text": [
      "Sent 995 messages, received 0 messages (0.0 per client)\n"
     ]
    }
   ],
   "source": [
    "client_msgs = [c.received_messages for c in clients]\n",
    "emitter_msgs = [e.emitted_commands for e in emitters]\n",
    "print(f'Sent {sum(emitter_msgs)} messages, received {sum(client_msgs)} messages ({sum(client_msgs)/len(clients)} per client)')"
   ]
  },
  {
   "cell_type": "markdown",
   "metadata": {},
   "source": [
    "## Latency\n",
    "### Average and median latency\n",
    "Here are some latency statistics"
   ]
  },
  {
   "cell_type": "code",
   "execution_count": 10,
   "metadata": {
    "scrolled": true
   },
   "outputs": [
    {
     "ename": "StatisticsError",
     "evalue": "mean requires at least one data point",
     "output_type": "error",
     "traceback": [
      "\u001b[0;31m---------------------------------------------------------------------------\u001b[0m",
      "\u001b[0;31mStatisticsError\u001b[0m                           Traceback (most recent call last)",
      "\u001b[0;32m<ipython-input-10-4726107b9a93>\u001b[0m in \u001b[0;36m<module>\u001b[0;34m\u001b[0m\n\u001b[1;32m      2\u001b[0m \u001b[0;34m\u001b[0m\u001b[0m\n\u001b[1;32m      3\u001b[0m \u001b[0mlatencies\u001b[0m \u001b[0;34m=\u001b[0m \u001b[0;34m[\u001b[0m\u001b[0;34m[\u001b[0m\u001b[0ml\u001b[0m\u001b[0;34m*\u001b[0m\u001b[0;36m1000\u001b[0m \u001b[0;32mfor\u001b[0m \u001b[0ml\u001b[0m \u001b[0;32min\u001b[0m \u001b[0mc\u001b[0m\u001b[0;34m.\u001b[0m\u001b[0mlatencies\u001b[0m\u001b[0;34m]\u001b[0m \u001b[0;32mfor\u001b[0m \u001b[0mc\u001b[0m \u001b[0;32min\u001b[0m \u001b[0mclients\u001b[0m\u001b[0;34m]\u001b[0m\u001b[0;34m\u001b[0m\u001b[0;34m\u001b[0m\u001b[0m\n\u001b[0;32m----> 4\u001b[0;31m \u001b[0mavg_latencies\u001b[0m \u001b[0;34m=\u001b[0m \u001b[0;34m[\u001b[0m\u001b[0mstatistics\u001b[0m\u001b[0;34m.\u001b[0m\u001b[0mmean\u001b[0m\u001b[0;34m(\u001b[0m\u001b[0ml\u001b[0m\u001b[0;34m)\u001b[0m \u001b[0;32mfor\u001b[0m \u001b[0ml\u001b[0m \u001b[0;32min\u001b[0m \u001b[0mlatencies\u001b[0m\u001b[0;34m]\u001b[0m\u001b[0;34m\u001b[0m\u001b[0;34m\u001b[0m\u001b[0m\n\u001b[0m\u001b[1;32m      5\u001b[0m \u001b[0mmedian_latencies\u001b[0m \u001b[0;34m=\u001b[0m \u001b[0;34m[\u001b[0m\u001b[0mstatistics\u001b[0m\u001b[0;34m.\u001b[0m\u001b[0mmedian\u001b[0m\u001b[0;34m(\u001b[0m\u001b[0ml\u001b[0m\u001b[0;34m)\u001b[0m \u001b[0;32mfor\u001b[0m \u001b[0ml\u001b[0m \u001b[0;32min\u001b[0m \u001b[0mlatencies\u001b[0m\u001b[0;34m]\u001b[0m\u001b[0;34m\u001b[0m\u001b[0;34m\u001b[0m\u001b[0m\n\u001b[1;32m      6\u001b[0m \u001b[0mavg_latency\u001b[0m \u001b[0;34m=\u001b[0m \u001b[0mstatistics\u001b[0m\u001b[0;34m.\u001b[0m\u001b[0mmean\u001b[0m\u001b[0;34m(\u001b[0m\u001b[0mavg_latencies\u001b[0m\u001b[0;34m)\u001b[0m\u001b[0;34m\u001b[0m\u001b[0;34m\u001b[0m\u001b[0m\n",
      "\u001b[0;32m<ipython-input-10-4726107b9a93>\u001b[0m in \u001b[0;36m<listcomp>\u001b[0;34m(.0)\u001b[0m\n\u001b[1;32m      2\u001b[0m \u001b[0;34m\u001b[0m\u001b[0m\n\u001b[1;32m      3\u001b[0m \u001b[0mlatencies\u001b[0m \u001b[0;34m=\u001b[0m \u001b[0;34m[\u001b[0m\u001b[0;34m[\u001b[0m\u001b[0ml\u001b[0m\u001b[0;34m*\u001b[0m\u001b[0;36m1000\u001b[0m \u001b[0;32mfor\u001b[0m \u001b[0ml\u001b[0m \u001b[0;32min\u001b[0m \u001b[0mc\u001b[0m\u001b[0;34m.\u001b[0m\u001b[0mlatencies\u001b[0m\u001b[0;34m]\u001b[0m \u001b[0;32mfor\u001b[0m \u001b[0mc\u001b[0m \u001b[0;32min\u001b[0m \u001b[0mclients\u001b[0m\u001b[0;34m]\u001b[0m\u001b[0;34m\u001b[0m\u001b[0;34m\u001b[0m\u001b[0m\n\u001b[0;32m----> 4\u001b[0;31m \u001b[0mavg_latencies\u001b[0m \u001b[0;34m=\u001b[0m \u001b[0;34m[\u001b[0m\u001b[0mstatistics\u001b[0m\u001b[0;34m.\u001b[0m\u001b[0mmean\u001b[0m\u001b[0;34m(\u001b[0m\u001b[0ml\u001b[0m\u001b[0;34m)\u001b[0m \u001b[0;32mfor\u001b[0m \u001b[0ml\u001b[0m \u001b[0;32min\u001b[0m \u001b[0mlatencies\u001b[0m\u001b[0;34m]\u001b[0m\u001b[0;34m\u001b[0m\u001b[0;34m\u001b[0m\u001b[0m\n\u001b[0m\u001b[1;32m      5\u001b[0m \u001b[0mmedian_latencies\u001b[0m \u001b[0;34m=\u001b[0m \u001b[0;34m[\u001b[0m\u001b[0mstatistics\u001b[0m\u001b[0;34m.\u001b[0m\u001b[0mmedian\u001b[0m\u001b[0;34m(\u001b[0m\u001b[0ml\u001b[0m\u001b[0;34m)\u001b[0m \u001b[0;32mfor\u001b[0m \u001b[0ml\u001b[0m \u001b[0;32min\u001b[0m \u001b[0mlatencies\u001b[0m\u001b[0;34m]\u001b[0m\u001b[0;34m\u001b[0m\u001b[0;34m\u001b[0m\u001b[0m\n\u001b[1;32m      6\u001b[0m \u001b[0mavg_latency\u001b[0m \u001b[0;34m=\u001b[0m \u001b[0mstatistics\u001b[0m\u001b[0;34m.\u001b[0m\u001b[0mmean\u001b[0m\u001b[0;34m(\u001b[0m\u001b[0mavg_latencies\u001b[0m\u001b[0;34m)\u001b[0m\u001b[0;34m\u001b[0m\u001b[0;34m\u001b[0m\u001b[0m\n",
      "\u001b[0;32m/opt/lsst/software/stack/python/miniconda3-4.7.12/envs/lsst-scipipe-984c9f7/lib/python3.7/statistics.py\u001b[0m in \u001b[0;36mmean\u001b[0;34m(data)\u001b[0m\n\u001b[1;32m    308\u001b[0m     \u001b[0mn\u001b[0m \u001b[0;34m=\u001b[0m \u001b[0mlen\u001b[0m\u001b[0;34m(\u001b[0m\u001b[0mdata\u001b[0m\u001b[0;34m)\u001b[0m\u001b[0;34m\u001b[0m\u001b[0;34m\u001b[0m\u001b[0m\n\u001b[1;32m    309\u001b[0m     \u001b[0;32mif\u001b[0m \u001b[0mn\u001b[0m \u001b[0;34m<\u001b[0m \u001b[0;36m1\u001b[0m\u001b[0;34m:\u001b[0m\u001b[0;34m\u001b[0m\u001b[0;34m\u001b[0m\u001b[0m\n\u001b[0;32m--> 310\u001b[0;31m         \u001b[0;32mraise\u001b[0m \u001b[0mStatisticsError\u001b[0m\u001b[0;34m(\u001b[0m\u001b[0;34m'mean requires at least one data point'\u001b[0m\u001b[0;34m)\u001b[0m\u001b[0;34m\u001b[0m\u001b[0;34m\u001b[0m\u001b[0m\n\u001b[0m\u001b[1;32m    311\u001b[0m     \u001b[0mT\u001b[0m\u001b[0;34m,\u001b[0m \u001b[0mtotal\u001b[0m\u001b[0;34m,\u001b[0m \u001b[0mcount\u001b[0m \u001b[0;34m=\u001b[0m \u001b[0m_sum\u001b[0m\u001b[0;34m(\u001b[0m\u001b[0mdata\u001b[0m\u001b[0;34m)\u001b[0m\u001b[0;34m\u001b[0m\u001b[0;34m\u001b[0m\u001b[0m\n\u001b[1;32m    312\u001b[0m     \u001b[0;32massert\u001b[0m \u001b[0mcount\u001b[0m \u001b[0;34m==\u001b[0m \u001b[0mn\u001b[0m\u001b[0;34m\u001b[0m\u001b[0;34m\u001b[0m\u001b[0m\n",
      "\u001b[0;31mStatisticsError\u001b[0m: mean requires at least one data point"
     ]
    }
   ],
   "source": [
    "import statistics\n",
    "\n",
    "latencies = [[l*1000 for l in c.latencies] for c in clients]\n",
    "avg_latencies = [statistics.mean(l) for l in latencies]\n",
    "median_latencies = [statistics.median(l) for l in latencies]\n",
    "avg_latency = statistics.mean(avg_latencies)\n",
    "median_latency = statistics.median(median_latencies)\n",
    "\n",
    "print(f'Average message latency: {round(avg_latency)}ms')\n",
    "print(f'Median message latency: {round(median_latency)}ms')\n"
   ]
  },
  {
   "cell_type": "markdown",
   "metadata": {},
   "source": [
    "### Latencies series\n",
    "The following chart represents the latencies of each client sorted by reception. That is, the leftmost value was the first message to be received"
   ]
  },
  {
   "cell_type": "code",
   "execution_count": null,
   "metadata": {},
   "outputs": [],
   "source": [
    "from matplotlib import pyplot as plt\n",
    "plt.rcParams['figure.figsize'] = [20, 8]\n",
    "for l in latencies:\n",
    "    plt.plot(range(len(l)), l)"
   ]
  },
  {
   "cell_type": "code",
   "execution_count": null,
   "metadata": {
    "scrolled": true
   },
   "outputs": [],
   "source": [
    "import numpy as np\n",
    "sum(np.array(latencies[0])-np.array(latencies[4]))"
   ]
  },
  {
   "cell_type": "markdown",
   "metadata": {},
   "source": [
    "---\n",
    "## Test cleanup\n",
    "Wait for all tasks to end"
   ]
  },
  {
   "cell_type": "code",
   "execution_count": null,
   "metadata": {},
   "outputs": [],
   "source": [
    "[t.cancel() for t in [*backend_tasks, *client_tasks]]\n",
    "#[t.cancel() for t in [*client_tasks]]\n",
    "for task in asyncio.Task.all_tasks():\n",
    "    task.cancel()"
   ]
  }
 ],
 "metadata": {
  "kernelspec": {
   "display_name": "Python 3",
   "language": "python",
   "name": "python3"
  },
  "language_info": {
   "codemirror_mode": {
    "name": "ipython",
    "version": 3
   },
   "file_extension": ".py",
   "mimetype": "text/x-python",
   "name": "python",
   "nbconvert_exporter": "python",
   "pygments_lexer": "ipython3",
   "version": "3.7.6"
  }
 },
 "nbformat": 4,
 "nbformat_minor": 4
}
